{
 "cells": [
  {
   "cell_type": "code",
   "execution_count": 4,
   "metadata": {},
   "outputs": [
    {
     "data": {
      "text/plain": [
       "\"\\nPydantic models are the foundation of data validation in Python. \\nThey use Python type annotations to define the structure and validate data at runtime. \\nHere's a detailed exploration of basic model creation with several examples.\\n\""
      ]
     },
     "execution_count": 4,
     "metadata": {},
     "output_type": "execute_result"
    }
   ],
   "source": [
    "#### Pydantic Basics: Creating and Using Models\n",
    "'''\n",
    "Pydantic models are the foundation of data validation in Python. \n",
    "They use Python type annotations to define the structure and validate data at runtime. \n",
    "Here's a detailed exploration of basic model creation with several examples.\n",
    "'''"
   ]
  },
  {
   "cell_type": "code",
   "execution_count": 5,
   "metadata": {},
   "outputs": [],
   "source": [
    "from pydantic import BaseModel"
   ]
  },
  {
   "cell_type": "code",
   "execution_count": 11,
   "metadata": {},
   "outputs": [
    {
     "name": "stdout",
     "output_type": "stream",
     "text": [
      "Akkshay\n",
      "Akkshay\n",
      "Mumbai\n"
     ]
    }
   ],
   "source": [
    "from dataclasses import dataclass\n",
    "\n",
    "@dataclass\n",
    "class Person1():\n",
    "    name:str\n",
    "    age:int\n",
    "    city:str\n",
    "    \n",
    "person = Person1(name=\"Akkshay\", age='Akkshay', city=\"Mumbai\")\n",
    "print(person.name)\n",
    "print(person.age)\n",
    "print(person.city)"
   ]
  },
  {
   "cell_type": "code",
   "execution_count": 16,
   "metadata": {},
   "outputs": [
    {
     "name": "stdout",
     "output_type": "stream",
     "text": [
      "Akkshay\n",
      "29\n",
      "Mumbai\n"
     ]
    }
   ],
   "source": [
    "class Person(BaseModel):\n",
    "    name:str\n",
    "    age:int\n",
    "    city:str\n",
    "    \n",
    "person = Person(name=\"Akkshay\", age='29', city=\"Mumbai\")\n",
    "print(person.name)\n",
    "print(person.age)\n",
    "print(person.city)"
   ]
  },
  {
   "cell_type": "code",
   "execution_count": 19,
   "metadata": {},
   "outputs": [
    {
     "name": "stdout",
     "output_type": "stream",
     "text": [
      "id=1 name='Pankaj' age=None position='Junior' salary=None department='FE'\n"
     ]
    }
   ],
   "source": [
    "from typing import Optional\n",
    "\n",
    "class Employees(BaseModel):\n",
    "    id: int\n",
    "    name: str\n",
    "    age: Optional[int] = None\n",
    "    position: Optional[str] = \"Junior\"\n",
    "    salary: Optional[float] = None\n",
    "    department: Optional[str] = \"FE\"\n",
    "\n",
    "empl = Employees(id=1, name='Pankaj')\n",
    "print(empl)"
   ]
  },
  {
   "cell_type": "code",
   "execution_count": 20,
   "metadata": {},
   "outputs": [
    {
     "name": "stdout",
     "output_type": "stream",
     "text": [
      "id=2 name='Deepank' age=None position='Junior' salary=600000.0 department='FE'\n"
     ]
    }
   ],
   "source": [
    "empl = Employees(id=2, name='Deepank', salary=600000.00)\n",
    "print(empl)"
   ]
  },
  {
   "cell_type": "markdown",
   "metadata": {},
   "source": [
    "## Definition:\n",
    "\n",
    "- Optional[type]: Indicates the field can be None\n",
    "- Default value (= None or = True): Makes the field optional\n",
    "- Required fields must still be provided\n",
    "- Pydantic validates types even for optional fields when values are provided"
   ]
  },
  {
   "cell_type": "code",
   "execution_count": 25,
   "metadata": {},
   "outputs": [
    {
     "name": "stdout",
     "output_type": "stream",
     "text": [
      "name='Akkshay' age=12 grade=[12, 12, 34, 55, 22]\n"
     ]
    }
   ],
   "source": [
    "from pydantic import BaseModel\n",
    "from typing import List\n",
    "\n",
    "class Student(BaseModel):\n",
    "    name: str\n",
    "    age: int\n",
    "    grade: List[int] #List of int\n",
    "    \n",
    "student = Student(name=\"Akkshay\", age=12, grade=[12,12,34,55,22])\n",
    "print(student)"
   ]
  },
  {
   "cell_type": "code",
   "execution_count": 28,
   "metadata": {},
   "outputs": [],
   "source": [
    "try:\n",
    "    invalStudent = Student(name=\"Akkshay\", age=\"12\", grade=[12,12,34,55,22])\n",
    "except ValueError as e:\n",
    "    print(e)"
   ]
  },
  {
   "cell_type": "markdown",
   "metadata": {},
   "source": [
    "## Creating a complex mode\n",
    "\n",
    "    - Nexting the classes\n"
   ]
  },
  {
   "cell_type": "code",
   "execution_count": 1,
   "metadata": {},
   "outputs": [
    {
     "name": "stdout",
     "output_type": "stream",
     "text": [
      "id=1 name='Akkshay' email='Cooldudeakshu@gmail.com' address=Address(street='223 main St', city='Boston') created_at=None\n"
     ]
    }
   ],
   "source": [
    "from pydantic import BaseModel\n",
    "from typing import Optional\n",
    "from datetime import datetime\n",
    "\n",
    "class Address(BaseModel):\n",
    "    street: str\n",
    "    city: str\n",
    "\n",
    "class Student(BaseModel):\n",
    "    id: int\n",
    "    name: str\n",
    "    email: Optional[str] = 'Cooldudeakshu@gmail.com'\n",
    "    address: Address #nesting model\n",
    "    created_at: Optional[datetime] = None\n",
    "    \n",
    "student = Student(id=1, name=\"Akkshay\", address=Address(street='223 main St', city=\"Boston\"))\n",
    "print(student)  # Output: id=1 name=Akkshay email=Cooldud\n",
    "\n"
   ]
  },
  {
   "cell_type": "markdown",
   "metadata": {},
   "source": [
    "### Pydantic Fields: Customization and Constraints\n",
    "\n",
    "The Field function in Pydantic enhances model fields beyond basic type hints by allowing you to specify validation rules, default values, aliases, and more. Here's a comprehensive tutorial with examples."
   ]
  },
  {
   "cell_type": "code",
   "execution_count": null,
   "metadata": {},
   "outputs": [
    {
     "name": "stdout",
     "output_type": "stream",
     "text": [
      "{'properties': {'street': {'default': 'MG Road', 'description': 'Unique for everyer user', 'ge': 10, 'le': 1000, 'title': 'Street', 'type': 'string'}, 'city': {'title': 'City', 'type': 'string'}}, 'required': ['city'], 'title': 'Address', 'type': 'object'}\n"
     ]
    }
   ],
   "source": [
    "from pydantic import BaseModel, Field\n",
    "\n",
    "\n",
    "class Address(BaseModel):\n",
    "    street: str = Field(ge=10, le=1000, default=\"MG Road\", description='Unique for everyer user')\n",
    "    city: str\n",
    "\n",
    "class Student(BaseModel):\n",
    "    id: int\n",
    "    name: str\n",
    "    email: Optional[str] = 'Cooldudeakshu@gmail.com'\n",
    "    address: Address #nesting model\n",
    "    \n",
    "print(Address.model_json_schema())"
   ]
  },
  {
   "cell_type": "code",
   "execution_count": null,
   "metadata": {},
   "outputs": [],
   "source": []
  }
 ],
 "metadata": {
  "kernelspec": {
   "display_name": "base",
   "language": "python",
   "name": "python3"
  },
  "language_info": {
   "codemirror_mode": {
    "name": "ipython",
    "version": 3
   },
   "file_extension": ".py",
   "mimetype": "text/x-python",
   "name": "python",
   "nbconvert_exporter": "python",
   "pygments_lexer": "ipython3",
   "version": "3.9.12"
  }
 },
 "nbformat": 4,
 "nbformat_minor": 2
}
