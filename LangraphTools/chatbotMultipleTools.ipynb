{
 "cells": [
  {
   "cell_type": "code",
   "execution_count": null,
   "id": "5e7c1c46",
   "metadata": {},
   "outputs": [],
   "source": []
  },
  {
   "cell_type": "code",
   "execution_count": 1,
   "id": "1ac84a9a",
   "metadata": {},
   "outputs": [],
   "source": [
    "from langchain_community.tools import ArxivQueryRun, WikipediaQueryRun\n",
    "from langchain_community.utilities import ArxivAPIWrapper, WikipediaAPIWrapper\n",
    "\n"
   ]
  },
  {
   "cell_type": "code",
   "execution_count": 4,
   "id": "8362ba06",
   "metadata": {},
   "outputs": [
    {
     "name": "stdout",
     "output_type": "stream",
     "text": [
      "arxiv\n",
      "Query arxiv papers\n"
     ]
    }
   ],
   "source": [
    "api_wrapper_arxiv = ArxivAPIWrapper(top_k_results=2, doc_content_chars_max=500)\n",
    "arxiv = ArxivQueryRun(api_wrapper=api_wrapper_arxiv, description=\"Query arxiv papers\")\n",
    "print(arxiv.name)\n",
    "print(arxiv.description)"
   ]
  },
  {
   "cell_type": "code",
   "execution_count": 5,
   "id": "1725a472",
   "metadata": {},
   "outputs": [
    {
     "data": {
      "text/plain": [
       "\"Published: 2024-07-22\\nTitle: Attention Is All You Need But You Don't Need All Of It For Inference of Large Language Models\\nAuthors: Georgy Tyukin, Gbetondji J-S Dovonon, Jean Kaddour, Pasquale Minervini\\nSummary: The inference demand for LLMs has skyrocketed in recent months, and serving\\nmodels with low latencies remains challenging due to the quadratic input length\\ncomplexity of the attention layers. In this work, we investigate the effect of\\ndropping MLP and attention layers at inference time o\""
      ]
     },
     "execution_count": 5,
     "metadata": {},
     "output_type": "execute_result"
    }
   ],
   "source": [
    "arxiv.invoke(\"Attention is all you need\")"
   ]
  },
  {
   "cell_type": "code",
   "execution_count": 6,
   "id": "bf06da28",
   "metadata": {},
   "outputs": [
    {
     "name": "stdout",
     "output_type": "stream",
     "text": [
      "wikipedia\n",
      "Query for information retrieval of wikipedia\n"
     ]
    }
   ],
   "source": [
    "api_wrapper_wikipedia = WikipediaAPIWrapper(top_k_results=1,doc_content_chars_max=500)\n",
    "wikipedia = WikipediaQueryRun(api_wrapper=api_wrapper_wikipedia, description=\"Query for information retrieval of wikipedia\")\n",
    "print(wikipedia.name)\n",
    "print(wikipedia.description)"
   ]
  },
  {
   "cell_type": "code",
   "execution_count": 8,
   "id": "f418b94d",
   "metadata": {},
   "outputs": [],
   "source": [
    "from dotenv import load_dotenv\n",
    "load_dotenv()\n",
    "\n",
    "import os\n",
    "\n",
    "os.environ['TAVILY_API_KEY'] = os.getenv(\"TAVILY_API_KEY\")\n",
    "os.environ['GROQ_API_KEY'] = os.getenv(\"GROQ_API_KEY\")"
   ]
  },
  {
   "cell_type": "code",
   "execution_count": 9,
   "id": "ab48c239",
   "metadata": {},
   "outputs": [],
   "source": [
    "from langchain_community.tools.tavily_search import TavilySearchResults\n",
    "tavily = TavilySearchResults()"
   ]
  },
  {
   "cell_type": "code",
   "execution_count": 10,
   "id": "cda7fb38",
   "metadata": {},
   "outputs": [
    {
     "data": {
      "text/plain": [
       "[{'title': 'Upcoming games 2025: Our release calendar - PC Gamer',\n",
       "  'url': 'https://www.pcgamer.com/games/new-games-2025-upcoming-pc-release-schedule/',\n",
       "  'content': \"After 2025's rather busy beginnings with new games like Civilization 7, Avowed, and Monster Hunter Wilds, you may be hoping for a breather—and that's too bad. As the year barrels forward, the 2025 games calendar grows longer, fleshing out dates for faraway favorites like Metal Gear in August and Borderlands 4 in September. [...] March 11 — Wanderstop - An existential cozy game (Steam)\\nMarch 13 — Midnight Murder Club - Hide and Seek with guns in the dark (Steam)\\nMarch 14 — WWE 2K25 - Yearly wrestling returns with new match types (Steam)\\nMarch 18 — 33 Immortals - Co-op roguelike with up to 32 friends (Epic)\\nMarch 18 — MySims - A once Nintendo exclusive re-released (Steam)\\nMarch 20 — Assassin's Creed: Shadows - Feudal Japan assassin era (Epic)\\nMarch 20 — Bleach Rebirth of Souls - The story from the beginning (Steam)\",\n",
       "  'score': 0.8446273},\n",
       " {'title': '2025 Upcoming Games Release Schedule - GameSpot',\n",
       "  'url': 'https://www.gamespot.com/articles/2025-upcoming-games-release-schedule/1100-6526471/',\n",
       "  'content': 'Elden Ring: Nightreign (PS5, PS4, Xbox Series X|S, Xbox One, PC) - May 30\\nLost Soul Aside (PS5, PC) - May 30\\nRune Factory: Guardians of Azuma (Switch, PC) - May 30\\nJune\\nBravely Default Flying Fairy HD Remaster (Switch 2) - June 5\\nCivilization 7 (Switch 2) - June 5\\nCyberpunk 2077: Ultimate Edition (Switch 2) - June 5\\nFast Fusion (Switch 2) - June 5\\nFinal Fantasy 7 Remake Intergrade (Switch 2) - June 5\\nFortnite (Switch 2) - June 5 [...] Clair Obscur: Expedition 33 (PS5, Xbox Series X|S, PC) - April 24\\nRealpolitiks 3: Earth and Beyond (PC) - April 24\\nSuper Technos World: River City & Arcade Classics (PS5, Switch, PC) - April 24\\nThe Hundred Line - Last Defense Academy (Switch, PC) - April 24\\nDays Gone Remastered (PS5) - April 25\\nStarless Abyss (PC) - April 25\\nWarfare Legacy Collection (PC) - April 28\\nBlight Night (PC) - April 29\\nForza Horizon 5 (PS5) - April 29\\nMoroi (PC) - April 30\\nSkin Deep (PC) - April 30 [...] Mirage: Ignis Fatuus (Switch, PC) - April 18\\nTranquil Isle (PC) - April 18\\nFatal Fury: City of the Wolves (PS5, PS4, Xbox Series X|S, PC) - April 21\\nRise of Rebellion (PC) - April 21\\nCreepy Redneck Dinosaur Mansion 3 (PC) - April 22\\nOut of Hands (PC) - April 22\\nSteel Seed (PS5, Xbox Series X|S, PC) - April 22\\nBeholder: Conductor (PC) - April 23\\nOld Skies (PC, Switch) - April 23\\nSunderfolk (PS5, Xbox Series X|S, Switch, PC) - April 23',\n",
       "  'score': 0.8361405},\n",
       " {'title': '2025 Video Game Release Date Calendar',\n",
       "  'url': 'https://gamerant.com/video-game-release-dates-2025-new-upcoming/',\n",
       "  'content': 'System Shock 2: 25th Anniversary Remaster (PS5, PS4, PC, Switch, Xbox One, XSX/S) - June 26\\n\\nTamagotchi Plaza (Switch) - June 27\\n\\nGames in July 2025\\n\\nTony Hawk’s Pro Skater 3 + 4 (Switch 2, PC, PS4, PS5, Switch, Xbox One, XSX/S) - July 11\\n\\nPatapon 1+2 Replay (Switch, PS5, PC) - July 11\\n\\nEdens Zero (PC, PS5, XSX/S) - July 15\\n\\nHunter x Hunter: Nen x Impact (PC, Switch, PS5) - July 17\\n\\nDonkey Kong Bananza (Switch 2) - July 17\\n\\nNeon Abyss 2 (PC) - July 17 [...] Orcs Must Die! Deathtrap\\xa0(PC, XSX/S) - January 28\\n\\nAtomic Heart - Enchantment Under the Sea DLC (PC, PS, Xbox) - January 28\\n\\nVirtua Fighter 5 R.E.V.O.\\xa0(PC) - January 28\\n\\nMarvel’s Spider-Man 2 (PC) - January 30\\n\\nHello Kitty Island Adventure\\xa0(PC, Switch) - January 30\\n\\nSniper Elite: Resistance (PC, PS4, PS5, XSX/S, Xbox One) - January 30\\n\\nGames In February 2025\\n\\nKingdom Come: Deliverance 2 (PS5, PC, XSX/S) - February 4\\n\\nRift of the NecroDancer (PC) - February 5 [...] Daemon X Machina: Titanic Scion (PS5, PC, Switch 2, XSX/S) - September 5\\n\\nTerminator 2D: No Fate (PS5, XSX/S, Xbox One, PS4, Switch, PC) - September 5\\n\\nBorderlands 4 (PS5, PC, XSX/S, Switch 2) - September 23\\n\\nMarathon\\xa0(PS5, PC, XSX/S) - September 23\\n\\n\\n\\n\\n\\n\\n\\nGames in October 2025\\n\\nVampire: the Masquerade – Bloodlines 2 (PC, PS5, XSX/S) - October\\n\\nDirective 8020 - A Dark Pictures Game (PC, PS5, XSX/S) - October 2\\n\\nDouble Dragon Revive (PC, PS5, PS4, Xbox One, XSX/S) - October 23',\n",
       "  'score': 0.82254606},\n",
       " {'title': 'The Best Video Games Coming Out in 2025 - PCMag',\n",
       "  'url': 'https://www.pcmag.com/news/the-best-video-games-coming-out-in-2025',\n",
       "  'content': \"Release Date: October 23, 2025\\n\\n\\nBilly and Jimmy knuckle up in Double Dragon Revive, a retro-style beat 'em up that delivers a fresh dose of thug-trouncing action.\\n\\nGames Without Specific Release Dates in 2025\\nBorderlands 4\\n\\n\\nPlatforms: PC, PS5, Xbox Series X/S\\n\\n\\nRelease Date: TBD\\n\\n\\nThe quintessential looter-shooter returns this year, delivering zany alien enemies, intense co-op action, and a ridiculous number of collectible guns.\\nCapcom Fighting Collection 2 [...] Platforms: PC, Xbox Series X/S\\n\\n\\nRelease Date: February 18, 2025\\n\\n\\nThis first-person fantasy title, set in the Pillars of Eternity universe, drops you onto a mysterious island filled with danger and wonder. Save the mysterious realm from a spreading plague, form alliances, and defeat monsters in visceral combat.\\nLike a Dragon: Pirate Yakuza in Hawaii\\n\\n\\nPlatforms: PC, PS4, PS5, Xbox One, Xbox Series X/S\\n\\n\\nRelease Date: February 20, 2025 [...] Platforms: Nintendo Switch, PC, PS4, PS5, Xbox One, Xbox Series X/S\\n\\n\\nRelease Date: April 18, 2025\\n\\n\\nTwo beloved RPGs receive an enhanced rerelease, giving fans numerous improvements that should scratch the nostalgic itch for 1990s-era adventure.\\nFatal Fury: City of the Wolves\\n\\n\\nPlatforms: Nintendo Switch, PC, PS5, Xbox Series X/S\\n\\n\\nRelease Date: April 24, 2025\",\n",
       "  'score': 0.81418616},\n",
       " {'title': 'Upcoming video games and April 2025 releases | Eurogamer.net',\n",
       "  'url': 'https://www.eurogamer.net/2025-video-game-release-schedule',\n",
       "  'content': \"Upcoming video games and April 2025 releases\\n\\nTriple-A and indie games releasing in 2025 for PC, PlayStation, Xbox, Switch, and Mobile.\\n\\nIt's a brand new year and you know what that means, it's time to whip out our (pause for effect) 2025 video game release schedule!\\n\\nCurrently, there's plenty to look forward to in terms of 2025 launch titles. The upcoming year is shaping up to be quite interesting in the terms of new titles, and just maybe, we'll even see GTA 6 appear.\",\n",
       "  'score': 0.8080827}]"
      ]
     },
     "execution_count": 10,
     "metadata": {},
     "output_type": "execute_result"
    }
   ],
   "source": [
    "tavily.invoke(\"Latest game launches in 2025?\")"
   ]
  },
  {
   "cell_type": "code",
   "execution_count": 11,
   "id": "f7e58840",
   "metadata": {},
   "outputs": [],
   "source": [
    "## Combining all the tools in the new list\n",
    "tools = [arxiv, wikipedia,tavily]"
   ]
  },
  {
   "cell_type": "code",
   "execution_count": 13,
   "id": "a3f63360",
   "metadata": {},
   "outputs": [],
   "source": [
    "## Initialize the LLM Model\n",
    "from langchain_groq import ChatGroq\n",
    "\n",
    "llm = ChatGroq(model=\"qwen-qwq-32b\")"
   ]
  },
  {
   "cell_type": "code",
   "execution_count": 14,
   "id": "8e07ff53",
   "metadata": {},
   "outputs": [
    {
     "data": {
      "text/plain": [
       "AIMessage(content='\\n<think>\\nOkay, the user typed \"all you need is attention.\" That\\'s a well-known quote from the Beatles song \"All You Need Is Love,\" but with \"attention\" instead. Maybe they\\'re referencing it, but I should check the context.\\n\\nFirst, I should think about what they\\'re asking. They might be asking me to explain the quote, or they might be making a statement. Since it\\'s just that line, perhaps they want a response related to the song or a deeper meaning about attention versus love.\\n\\nI should consider if \"attention\" here is a play on the Beatles\\' lyrics. The original is \"All You Need Is Love,\" so changing it to \"attention\" could imply that attention is the key thing needed in their situation. Maybe they\\'re feeling overlooked and need reassurance, or they\\'re discussing a topic where attention is crucial.\\n\\nAlternatively, \"attention\" could relate to attention mechanisms in machine learning, since I\\'m an AI. The user might be referring to the self-attention mechanism that\\'s key in models like Transformers. That\\'s a technical term, so I should address both possibilities.\\n\\nI should start by acknowledging the Beatles reference, then discuss the importance of attention in different contexts—personal, social, or technical. Let me break it down. \\n\\nFirst, the Beatles song\\'s message is about love being the solution to the world\\'s problems. The user\\'s version swaps love for attention. So, maybe they\\'re suggesting that attention is the key instead. I should explain both perspectives, the original song and the twist here.\\n\\nThen, the technical angle: attention mechanisms in AI. Self-attention allows models to weigh the importance of different parts of input data, which is crucial for processing sequences like text. Explaining that could be useful if that\\'s what they\\'re referring to.\\n\\nAlso, in a personal sense, attention from others is important for relationships and mental health. Maybe they\\'re seeking advice on giving/receiving attention. I should cover that too.\\n\\nI need to structure the response to cover these areas without being too technical unless needed. Start with the song reference, then move to the importance of attention in general, and touch on the technical aspect briefly. Let the user know I can elaborate on any specific area they\\'re interested in.\\n\\nWait, but the user\\'s input is just that line, so maybe they want a creative response or a deeper thought. Let me make sure to be friendly and open-ended, inviting them to clarify if they need more on a specific topic. That way I cover all bases and don\\'t assume too much.\\n</think>\\n\\nAh, \"All You Need Is Attention\"—a playful twist on The Beatles\\' iconic \"All You Need Is Love\"! Let’s explore this idea from a few angles:\\n\\n---\\n\\n### 1. **Philosophical/Personal Perspective**  \\nIf \"attention\" is the key, it might suggest that awareness, presence, or care is what truly matters. In relationships, attention can deepen connections. In personal growth, it’s about mindfulness and self-awareness.  \\n- *\"Attention is the rarest and purest form of generosity.\"* (Simone Weil)  \\nPerhaps this line reflects a need to prioritize listening, empathy, or intentional presence in a world of constant distractions.\\n\\n---\\n\\n### 2. **Tech/ML Context**  \\nIf we’re talking about **AI**, \"attention\" is a game-changer! The **self-attention mechanism** in models like **Transformers** allows machines to focus on specific parts of input data when processing information—revolutionizing tasks like language translation and image analysis. Without attention, AI wouldn’t \"understand\" context so effectively. So, in this sense, attention is indeed foundational!\\n\\n---\\n\\n### 3. **Cultural Critique**  \\nIn today’s digital age, attention is a scarce resource. Social media, ads, and information overload compete for our focus. The line could be a witty critique: in a world obsessed with \"grabbing attention,\" maybe that’s become humanity’s primary currency—or burden.\\n\\n---\\n\\n### 4. **The Beatles’ Original Message**  \\nThe original lyric (*All You Need Is Love*) promoted peace and unity in the 1960s. Swapping \"love\" for \"attention\" flips it into a modern lens. Is love still the answer, or has the world shifted toward craving validation, recognition, or visibility?\\n\\n---\\n\\n### Your Take?  \\nAre you referencing the song, reflecting on a personal theme, or diving into AI mechanics? Let me know, and I’ll expand on the angle that resonates most! 😊', additional_kwargs={}, response_metadata={'token_usage': {'completion_tokens': 928, 'prompt_tokens': 15, 'total_tokens': 943, 'completion_time': 2.299965, 'prompt_time': 0.003154353, 'queue_time': 1.781202906, 'total_time': 2.303119353}, 'model_name': 'qwen-qwq-32b', 'system_fingerprint': 'fp_fbb7e6cc39', 'finish_reason': 'stop', 'logprobs': None}, id='run-151af92f-270d-4ea4-b77a-fb1d96dfdfbf-0', usage_metadata={'input_tokens': 15, 'output_tokens': 928, 'total_tokens': 943})"
      ]
     },
     "execution_count": 14,
     "metadata": {},
     "output_type": "execute_result"
    }
   ],
   "source": [
    "llm.invoke(\"all you need is attention\")"
   ]
  },
  {
   "cell_type": "code",
   "execution_count": 15,
   "id": "ae2a330f",
   "metadata": {},
   "outputs": [],
   "source": [
    "llm_with_tools = llm.bind_tools(tools=tools)"
   ]
  },
  {
   "cell_type": "code",
   "execution_count": null,
   "id": "e2c11913",
   "metadata": {},
   "outputs": [
    {
     "data": {
      "text/plain": [
       "AIMessage(content='', additional_kwargs={'tool_calls': [{'id': 'call_dznw', 'function': {'arguments': '{\"query\": \"recent news on AI\"}', 'name': 'tavily_search_results_json'}, 'type': 'function'}]}, response_metadata={'token_usage': {'completion_tokens': 197, 'prompt_tokens': 325, 'total_tokens': 522, 'completion_time': 0.492449478, 'prompt_time': 0.056482203, 'queue_time': 1.6640129869999998, 'total_time': 0.548931681}, 'model_name': 'qwen-qwq-32b', 'system_fingerprint': 'fp_512a3da6bb', 'finish_reason': 'tool_calls', 'logprobs': None}, id='run-e19b57df-710f-4e0a-b9fa-7c4db89c5b43-0', tool_calls=[{'name': 'tavily_search_results_json', 'args': {'query': 'recent news on AI'}, 'id': 'call_dznw', 'type': 'tool_call'}], usage_metadata={'input_tokens': 325, 'output_tokens': 197, 'total_tokens': 522})"
      ]
     },
     "execution_count": 17,
     "metadata": {},
     "output_type": "execute_result"
    }
   ],
   "source": [
    "## Execute the call\n",
    "llm_with_tools.invoke(\"What is the recent news on AI\") ##using Tavily api\n",
    "llm_with_tools.invoke(\"What is the resarch on AI\") ##using Arxiv api\n",
    "llm_with_tools.invoke(\"What is Data science\") ##using LLM api"
   ]
  },
  {
   "cell_type": "markdown",
   "id": "f3e7a064",
   "metadata": {},
   "source": [
    "## Workflow for managing multiple tasks and tools efficiently\n",
    "\n",
    "1. Identify tasks and tools required for each task.\n",
    "2. Prioritize tasks based on urgency and importance.\n",
    "3. Allocate resources and tools to each task accordingly.\n",
    "4. Monitor progress and make adjustments as needed to stay on track.\n",
    "5. Review the completed tasks and evaluate the effectiveness of the tools used.\n",
    "\n"
   ]
  },
  {
   "cell_type": "code",
   "execution_count": 19,
   "id": "558a49d5",
   "metadata": {},
   "outputs": [],
   "source": [
    "## State schema\n",
    "from typing_extensions import TypedDict\n",
    "from langchain_core.messages import AnyMessage ## Human Message or AI message\n",
    "from typing import Annotated ## Labelling\n",
    "from langgraph.graph.message import add_messages ## Reducers in Langgraph"
   ]
  },
  {
   "cell_type": "code",
   "execution_count": 20,
   "id": "9fbad2a3",
   "metadata": {},
   "outputs": [],
   "source": [
    "class State(TypedDict):\n",
    "    messages: Annotated[list[AnyMessage], add_messages] ## add_message is Reducers, mean it not overwrite inside llm's message instead it appends new messages to the existing list\n",
    "    "
   ]
  },
  {
   "cell_type": "code",
   "execution_count": 21,
   "id": "098f497e",
   "metadata": {},
   "outputs": [],
   "source": [
    "from IPython.display import Image, display\n",
    "from langgraph.graph import StateGraph, START, END\n",
    "from langgraph.prebuilt import ToolNode\n",
    "from langgraph.prebuilt import tools_condition"
   ]
  },
  {
   "cell_type": "code",
   "execution_count": null,
   "id": "9cbe7275",
   "metadata": {},
   "outputs": [
    {
     "ename": "ValueError",
     "evalue": "Failed to reach https://mermaid.ink/ API while trying to render your graph after 1 retries. To resolve this issue:\n1. Check your internet connection and try again\n2. Try with higher retry settings: `draw_mermaid_png(..., max_retries=5, retry_delay=2.0)`\n3. Use the Pyppeteer rendering method which will render your graph locally in a browser: `draw_mermaid_png(..., draw_method=MermaidDrawMethod.PYPPETEER)`",
     "output_type": "error",
     "traceback": [
      "\u001b[31m---------------------------------------------------------------------------\u001b[39m",
      "\u001b[31mTimeoutError\u001b[39m                              Traceback (most recent call last)",
      "\u001b[36mFile \u001b[39m\u001b[32m~/Documents/Python/.venv/lib/python3.12/site-packages/urllib3/connectionpool.py:534\u001b[39m, in \u001b[36mHTTPConnectionPool._make_request\u001b[39m\u001b[34m(self, conn, method, url, body, headers, retries, timeout, chunked, response_conn, preload_content, decode_content, enforce_content_length)\u001b[39m\n\u001b[32m    533\u001b[39m \u001b[38;5;28;01mtry\u001b[39;00m:\n\u001b[32m--> \u001b[39m\u001b[32m534\u001b[39m     response = \u001b[43mconn\u001b[49m\u001b[43m.\u001b[49m\u001b[43mgetresponse\u001b[49m\u001b[43m(\u001b[49m\u001b[43m)\u001b[49m\n\u001b[32m    535\u001b[39m \u001b[38;5;28;01mexcept\u001b[39;00m (BaseSSLError, \u001b[38;5;167;01mOSError\u001b[39;00m) \u001b[38;5;28;01mas\u001b[39;00m e:\n",
      "\u001b[36mFile \u001b[39m\u001b[32m~/Documents/Python/.venv/lib/python3.12/site-packages/urllib3/connection.py:516\u001b[39m, in \u001b[36mHTTPConnection.getresponse\u001b[39m\u001b[34m(self)\u001b[39m\n\u001b[32m    515\u001b[39m \u001b[38;5;66;03m# Get the response from http.client.HTTPConnection\u001b[39;00m\n\u001b[32m--> \u001b[39m\u001b[32m516\u001b[39m httplib_response = \u001b[38;5;28;43msuper\u001b[39;49m\u001b[43m(\u001b[49m\u001b[43m)\u001b[49m\u001b[43m.\u001b[49m\u001b[43mgetresponse\u001b[49m\u001b[43m(\u001b[49m\u001b[43m)\u001b[49m\n\u001b[32m    518\u001b[39m \u001b[38;5;28;01mtry\u001b[39;00m:\n",
      "\u001b[36mFile \u001b[39m\u001b[32m/opt/homebrew/Cellar/python@3.12/3.12.10/Frameworks/Python.framework/Versions/3.12/lib/python3.12/http/client.py:1430\u001b[39m, in \u001b[36mHTTPConnection.getresponse\u001b[39m\u001b[34m(self)\u001b[39m\n\u001b[32m   1429\u001b[39m \u001b[38;5;28;01mtry\u001b[39;00m:\n\u001b[32m-> \u001b[39m\u001b[32m1430\u001b[39m     \u001b[43mresponse\u001b[49m\u001b[43m.\u001b[49m\u001b[43mbegin\u001b[49m\u001b[43m(\u001b[49m\u001b[43m)\u001b[49m\n\u001b[32m   1431\u001b[39m \u001b[38;5;28;01mexcept\u001b[39;00m \u001b[38;5;167;01mConnectionError\u001b[39;00m:\n",
      "\u001b[36mFile \u001b[39m\u001b[32m/opt/homebrew/Cellar/python@3.12/3.12.10/Frameworks/Python.framework/Versions/3.12/lib/python3.12/http/client.py:331\u001b[39m, in \u001b[36mHTTPResponse.begin\u001b[39m\u001b[34m(self)\u001b[39m\n\u001b[32m    330\u001b[39m \u001b[38;5;28;01mwhile\u001b[39;00m \u001b[38;5;28;01mTrue\u001b[39;00m:\n\u001b[32m--> \u001b[39m\u001b[32m331\u001b[39m     version, status, reason = \u001b[38;5;28;43mself\u001b[39;49m\u001b[43m.\u001b[49m\u001b[43m_read_status\u001b[49m\u001b[43m(\u001b[49m\u001b[43m)\u001b[49m\n\u001b[32m    332\u001b[39m     \u001b[38;5;28;01mif\u001b[39;00m status != CONTINUE:\n",
      "\u001b[36mFile \u001b[39m\u001b[32m/opt/homebrew/Cellar/python@3.12/3.12.10/Frameworks/Python.framework/Versions/3.12/lib/python3.12/http/client.py:292\u001b[39m, in \u001b[36mHTTPResponse._read_status\u001b[39m\u001b[34m(self)\u001b[39m\n\u001b[32m    291\u001b[39m \u001b[38;5;28;01mdef\u001b[39;00m\u001b[38;5;250m \u001b[39m\u001b[34m_read_status\u001b[39m(\u001b[38;5;28mself\u001b[39m):\n\u001b[32m--> \u001b[39m\u001b[32m292\u001b[39m     line = \u001b[38;5;28mstr\u001b[39m(\u001b[38;5;28;43mself\u001b[39;49m\u001b[43m.\u001b[49m\u001b[43mfp\u001b[49m\u001b[43m.\u001b[49m\u001b[43mreadline\u001b[49m\u001b[43m(\u001b[49m\u001b[43m_MAXLINE\u001b[49m\u001b[43m \u001b[49m\u001b[43m+\u001b[49m\u001b[43m \u001b[49m\u001b[32;43m1\u001b[39;49m\u001b[43m)\u001b[49m, \u001b[33m\"\u001b[39m\u001b[33miso-8859-1\u001b[39m\u001b[33m\"\u001b[39m)\n\u001b[32m    293\u001b[39m     \u001b[38;5;28;01mif\u001b[39;00m \u001b[38;5;28mlen\u001b[39m(line) > _MAXLINE:\n",
      "\u001b[36mFile \u001b[39m\u001b[32m/opt/homebrew/Cellar/python@3.12/3.12.10/Frameworks/Python.framework/Versions/3.12/lib/python3.12/socket.py:720\u001b[39m, in \u001b[36mSocketIO.readinto\u001b[39m\u001b[34m(self, b)\u001b[39m\n\u001b[32m    719\u001b[39m \u001b[38;5;28;01mtry\u001b[39;00m:\n\u001b[32m--> \u001b[39m\u001b[32m720\u001b[39m     \u001b[38;5;28;01mreturn\u001b[39;00m \u001b[38;5;28;43mself\u001b[39;49m\u001b[43m.\u001b[49m\u001b[43m_sock\u001b[49m\u001b[43m.\u001b[49m\u001b[43mrecv_into\u001b[49m\u001b[43m(\u001b[49m\u001b[43mb\u001b[49m\u001b[43m)\u001b[49m\n\u001b[32m    721\u001b[39m \u001b[38;5;28;01mexcept\u001b[39;00m timeout:\n",
      "\u001b[36mFile \u001b[39m\u001b[32m/opt/homebrew/Cellar/python@3.12/3.12.10/Frameworks/Python.framework/Versions/3.12/lib/python3.12/ssl.py:1251\u001b[39m, in \u001b[36mSSLSocket.recv_into\u001b[39m\u001b[34m(self, buffer, nbytes, flags)\u001b[39m\n\u001b[32m   1248\u001b[39m         \u001b[38;5;28;01mraise\u001b[39;00m \u001b[38;5;167;01mValueError\u001b[39;00m(\n\u001b[32m   1249\u001b[39m           \u001b[33m\"\u001b[39m\u001b[33mnon-zero flags not allowed in calls to recv_into() on \u001b[39m\u001b[38;5;132;01m%s\u001b[39;00m\u001b[33m\"\u001b[39m %\n\u001b[32m   1250\u001b[39m           \u001b[38;5;28mself\u001b[39m.\u001b[34m__class__\u001b[39m)\n\u001b[32m-> \u001b[39m\u001b[32m1251\u001b[39m     \u001b[38;5;28;01mreturn\u001b[39;00m \u001b[38;5;28;43mself\u001b[39;49m\u001b[43m.\u001b[49m\u001b[43mread\u001b[49m\u001b[43m(\u001b[49m\u001b[43mnbytes\u001b[49m\u001b[43m,\u001b[49m\u001b[43m \u001b[49m\u001b[43mbuffer\u001b[49m\u001b[43m)\u001b[49m\n\u001b[32m   1252\u001b[39m \u001b[38;5;28;01melse\u001b[39;00m:\n",
      "\u001b[36mFile \u001b[39m\u001b[32m/opt/homebrew/Cellar/python@3.12/3.12.10/Frameworks/Python.framework/Versions/3.12/lib/python3.12/ssl.py:1103\u001b[39m, in \u001b[36mSSLSocket.read\u001b[39m\u001b[34m(self, len, buffer)\u001b[39m\n\u001b[32m   1102\u001b[39m \u001b[38;5;28;01mif\u001b[39;00m buffer \u001b[38;5;129;01mis\u001b[39;00m \u001b[38;5;129;01mnot\u001b[39;00m \u001b[38;5;28;01mNone\u001b[39;00m:\n\u001b[32m-> \u001b[39m\u001b[32m1103\u001b[39m     \u001b[38;5;28;01mreturn\u001b[39;00m \u001b[38;5;28;43mself\u001b[39;49m\u001b[43m.\u001b[49m\u001b[43m_sslobj\u001b[49m\u001b[43m.\u001b[49m\u001b[43mread\u001b[49m\u001b[43m(\u001b[49m\u001b[38;5;28;43mlen\u001b[39;49m\u001b[43m,\u001b[49m\u001b[43m \u001b[49m\u001b[43mbuffer\u001b[49m\u001b[43m)\u001b[49m\n\u001b[32m   1104\u001b[39m \u001b[38;5;28;01melse\u001b[39;00m:\n",
      "\u001b[31mTimeoutError\u001b[39m: The read operation timed out",
      "\nThe above exception was the direct cause of the following exception:\n",
      "\u001b[31mReadTimeoutError\u001b[39m                          Traceback (most recent call last)",
      "\u001b[36mFile \u001b[39m\u001b[32m~/Documents/Python/.venv/lib/python3.12/site-packages/requests/adapters.py:667\u001b[39m, in \u001b[36mHTTPAdapter.send\u001b[39m\u001b[34m(self, request, stream, timeout, verify, cert, proxies)\u001b[39m\n\u001b[32m    666\u001b[39m \u001b[38;5;28;01mtry\u001b[39;00m:\n\u001b[32m--> \u001b[39m\u001b[32m667\u001b[39m     resp = \u001b[43mconn\u001b[49m\u001b[43m.\u001b[49m\u001b[43murlopen\u001b[49m\u001b[43m(\u001b[49m\n\u001b[32m    668\u001b[39m \u001b[43m        \u001b[49m\u001b[43mmethod\u001b[49m\u001b[43m=\u001b[49m\u001b[43mrequest\u001b[49m\u001b[43m.\u001b[49m\u001b[43mmethod\u001b[49m\u001b[43m,\u001b[49m\n\u001b[32m    669\u001b[39m \u001b[43m        \u001b[49m\u001b[43murl\u001b[49m\u001b[43m=\u001b[49m\u001b[43murl\u001b[49m\u001b[43m,\u001b[49m\n\u001b[32m    670\u001b[39m \u001b[43m        \u001b[49m\u001b[43mbody\u001b[49m\u001b[43m=\u001b[49m\u001b[43mrequest\u001b[49m\u001b[43m.\u001b[49m\u001b[43mbody\u001b[49m\u001b[43m,\u001b[49m\n\u001b[32m    671\u001b[39m \u001b[43m        \u001b[49m\u001b[43mheaders\u001b[49m\u001b[43m=\u001b[49m\u001b[43mrequest\u001b[49m\u001b[43m.\u001b[49m\u001b[43mheaders\u001b[49m\u001b[43m,\u001b[49m\n\u001b[32m    672\u001b[39m \u001b[43m        \u001b[49m\u001b[43mredirect\u001b[49m\u001b[43m=\u001b[49m\u001b[38;5;28;43;01mFalse\u001b[39;49;00m\u001b[43m,\u001b[49m\n\u001b[32m    673\u001b[39m \u001b[43m        \u001b[49m\u001b[43massert_same_host\u001b[49m\u001b[43m=\u001b[49m\u001b[38;5;28;43;01mFalse\u001b[39;49;00m\u001b[43m,\u001b[49m\n\u001b[32m    674\u001b[39m \u001b[43m        \u001b[49m\u001b[43mpreload_content\u001b[49m\u001b[43m=\u001b[49m\u001b[38;5;28;43;01mFalse\u001b[39;49;00m\u001b[43m,\u001b[49m\n\u001b[32m    675\u001b[39m \u001b[43m        \u001b[49m\u001b[43mdecode_content\u001b[49m\u001b[43m=\u001b[49m\u001b[38;5;28;43;01mFalse\u001b[39;49;00m\u001b[43m,\u001b[49m\n\u001b[32m    676\u001b[39m \u001b[43m        \u001b[49m\u001b[43mretries\u001b[49m\u001b[43m=\u001b[49m\u001b[38;5;28;43mself\u001b[39;49m\u001b[43m.\u001b[49m\u001b[43mmax_retries\u001b[49m\u001b[43m,\u001b[49m\n\u001b[32m    677\u001b[39m \u001b[43m        \u001b[49m\u001b[43mtimeout\u001b[49m\u001b[43m=\u001b[49m\u001b[43mtimeout\u001b[49m\u001b[43m,\u001b[49m\n\u001b[32m    678\u001b[39m \u001b[43m        \u001b[49m\u001b[43mchunked\u001b[49m\u001b[43m=\u001b[49m\u001b[43mchunked\u001b[49m\u001b[43m,\u001b[49m\n\u001b[32m    679\u001b[39m \u001b[43m    \u001b[49m\u001b[43m)\u001b[49m\n\u001b[32m    681\u001b[39m \u001b[38;5;28;01mexcept\u001b[39;00m (ProtocolError, \u001b[38;5;167;01mOSError\u001b[39;00m) \u001b[38;5;28;01mas\u001b[39;00m err:\n",
      "\u001b[36mFile \u001b[39m\u001b[32m~/Documents/Python/.venv/lib/python3.12/site-packages/urllib3/connectionpool.py:841\u001b[39m, in \u001b[36mHTTPConnectionPool.urlopen\u001b[39m\u001b[34m(self, method, url, body, headers, retries, redirect, assert_same_host, timeout, pool_timeout, release_conn, chunked, body_pos, preload_content, decode_content, **response_kw)\u001b[39m\n\u001b[32m    839\u001b[39m     new_e = ProtocolError(\u001b[33m\"\u001b[39m\u001b[33mConnection aborted.\u001b[39m\u001b[33m\"\u001b[39m, new_e)\n\u001b[32m--> \u001b[39m\u001b[32m841\u001b[39m retries = \u001b[43mretries\u001b[49m\u001b[43m.\u001b[49m\u001b[43mincrement\u001b[49m\u001b[43m(\u001b[49m\n\u001b[32m    842\u001b[39m \u001b[43m    \u001b[49m\u001b[43mmethod\u001b[49m\u001b[43m,\u001b[49m\u001b[43m \u001b[49m\u001b[43murl\u001b[49m\u001b[43m,\u001b[49m\u001b[43m \u001b[49m\u001b[43merror\u001b[49m\u001b[43m=\u001b[49m\u001b[43mnew_e\u001b[49m\u001b[43m,\u001b[49m\u001b[43m \u001b[49m\u001b[43m_pool\u001b[49m\u001b[43m=\u001b[49m\u001b[38;5;28;43mself\u001b[39;49m\u001b[43m,\u001b[49m\u001b[43m \u001b[49m\u001b[43m_stacktrace\u001b[49m\u001b[43m=\u001b[49m\u001b[43msys\u001b[49m\u001b[43m.\u001b[49m\u001b[43mexc_info\u001b[49m\u001b[43m(\u001b[49m\u001b[43m)\u001b[49m\u001b[43m[\u001b[49m\u001b[32;43m2\u001b[39;49m\u001b[43m]\u001b[49m\n\u001b[32m    843\u001b[39m \u001b[43m\u001b[49m\u001b[43m)\u001b[49m\n\u001b[32m    844\u001b[39m retries.sleep()\n",
      "\u001b[36mFile \u001b[39m\u001b[32m~/Documents/Python/.venv/lib/python3.12/site-packages/urllib3/util/retry.py:474\u001b[39m, in \u001b[36mRetry.increment\u001b[39m\u001b[34m(self, method, url, response, error, _pool, _stacktrace)\u001b[39m\n\u001b[32m    473\u001b[39m \u001b[38;5;28;01mif\u001b[39;00m read \u001b[38;5;129;01mis\u001b[39;00m \u001b[38;5;28;01mFalse\u001b[39;00m \u001b[38;5;129;01mor\u001b[39;00m method \u001b[38;5;129;01mis\u001b[39;00m \u001b[38;5;28;01mNone\u001b[39;00m \u001b[38;5;129;01mor\u001b[39;00m \u001b[38;5;129;01mnot\u001b[39;00m \u001b[38;5;28mself\u001b[39m._is_method_retryable(method):\n\u001b[32m--> \u001b[39m\u001b[32m474\u001b[39m     \u001b[38;5;28;01mraise\u001b[39;00m \u001b[43mreraise\u001b[49m\u001b[43m(\u001b[49m\u001b[38;5;28;43mtype\u001b[39;49m\u001b[43m(\u001b[49m\u001b[43merror\u001b[49m\u001b[43m)\u001b[49m\u001b[43m,\u001b[49m\u001b[43m \u001b[49m\u001b[43merror\u001b[49m\u001b[43m,\u001b[49m\u001b[43m \u001b[49m\u001b[43m_stacktrace\u001b[49m\u001b[43m)\u001b[49m\n\u001b[32m    475\u001b[39m \u001b[38;5;28;01melif\u001b[39;00m read \u001b[38;5;129;01mis\u001b[39;00m \u001b[38;5;129;01mnot\u001b[39;00m \u001b[38;5;28;01mNone\u001b[39;00m:\n",
      "\u001b[36mFile \u001b[39m\u001b[32m~/Documents/Python/.venv/lib/python3.12/site-packages/urllib3/util/util.py:39\u001b[39m, in \u001b[36mreraise\u001b[39m\u001b[34m(tp, value, tb)\u001b[39m\n\u001b[32m     38\u001b[39m         \u001b[38;5;28;01mraise\u001b[39;00m value.with_traceback(tb)\n\u001b[32m---> \u001b[39m\u001b[32m39\u001b[39m     \u001b[38;5;28;01mraise\u001b[39;00m value\n\u001b[32m     40\u001b[39m \u001b[38;5;28;01mfinally\u001b[39;00m:\n",
      "\u001b[36mFile \u001b[39m\u001b[32m~/Documents/Python/.venv/lib/python3.12/site-packages/urllib3/connectionpool.py:787\u001b[39m, in \u001b[36mHTTPConnectionPool.urlopen\u001b[39m\u001b[34m(self, method, url, body, headers, retries, redirect, assert_same_host, timeout, pool_timeout, release_conn, chunked, body_pos, preload_content, decode_content, **response_kw)\u001b[39m\n\u001b[32m    786\u001b[39m \u001b[38;5;66;03m# Make the request on the HTTPConnection object\u001b[39;00m\n\u001b[32m--> \u001b[39m\u001b[32m787\u001b[39m response = \u001b[38;5;28;43mself\u001b[39;49m\u001b[43m.\u001b[49m\u001b[43m_make_request\u001b[49m\u001b[43m(\u001b[49m\n\u001b[32m    788\u001b[39m \u001b[43m    \u001b[49m\u001b[43mconn\u001b[49m\u001b[43m,\u001b[49m\n\u001b[32m    789\u001b[39m \u001b[43m    \u001b[49m\u001b[43mmethod\u001b[49m\u001b[43m,\u001b[49m\n\u001b[32m    790\u001b[39m \u001b[43m    \u001b[49m\u001b[43murl\u001b[49m\u001b[43m,\u001b[49m\n\u001b[32m    791\u001b[39m \u001b[43m    \u001b[49m\u001b[43mtimeout\u001b[49m\u001b[43m=\u001b[49m\u001b[43mtimeout_obj\u001b[49m\u001b[43m,\u001b[49m\n\u001b[32m    792\u001b[39m \u001b[43m    \u001b[49m\u001b[43mbody\u001b[49m\u001b[43m=\u001b[49m\u001b[43mbody\u001b[49m\u001b[43m,\u001b[49m\n\u001b[32m    793\u001b[39m \u001b[43m    \u001b[49m\u001b[43mheaders\u001b[49m\u001b[43m=\u001b[49m\u001b[43mheaders\u001b[49m\u001b[43m,\u001b[49m\n\u001b[32m    794\u001b[39m \u001b[43m    \u001b[49m\u001b[43mchunked\u001b[49m\u001b[43m=\u001b[49m\u001b[43mchunked\u001b[49m\u001b[43m,\u001b[49m\n\u001b[32m    795\u001b[39m \u001b[43m    \u001b[49m\u001b[43mretries\u001b[49m\u001b[43m=\u001b[49m\u001b[43mretries\u001b[49m\u001b[43m,\u001b[49m\n\u001b[32m    796\u001b[39m \u001b[43m    \u001b[49m\u001b[43mresponse_conn\u001b[49m\u001b[43m=\u001b[49m\u001b[43mresponse_conn\u001b[49m\u001b[43m,\u001b[49m\n\u001b[32m    797\u001b[39m \u001b[43m    \u001b[49m\u001b[43mpreload_content\u001b[49m\u001b[43m=\u001b[49m\u001b[43mpreload_content\u001b[49m\u001b[43m,\u001b[49m\n\u001b[32m    798\u001b[39m \u001b[43m    \u001b[49m\u001b[43mdecode_content\u001b[49m\u001b[43m=\u001b[49m\u001b[43mdecode_content\u001b[49m\u001b[43m,\u001b[49m\n\u001b[32m    799\u001b[39m \u001b[43m    \u001b[49m\u001b[43m*\u001b[49m\u001b[43m*\u001b[49m\u001b[43mresponse_kw\u001b[49m\u001b[43m,\u001b[49m\n\u001b[32m    800\u001b[39m \u001b[43m\u001b[49m\u001b[43m)\u001b[49m\n\u001b[32m    802\u001b[39m \u001b[38;5;66;03m# Everything went great!\u001b[39;00m\n",
      "\u001b[36mFile \u001b[39m\u001b[32m~/Documents/Python/.venv/lib/python3.12/site-packages/urllib3/connectionpool.py:536\u001b[39m, in \u001b[36mHTTPConnectionPool._make_request\u001b[39m\u001b[34m(self, conn, method, url, body, headers, retries, timeout, chunked, response_conn, preload_content, decode_content, enforce_content_length)\u001b[39m\n\u001b[32m    535\u001b[39m \u001b[38;5;28;01mexcept\u001b[39;00m (BaseSSLError, \u001b[38;5;167;01mOSError\u001b[39;00m) \u001b[38;5;28;01mas\u001b[39;00m e:\n\u001b[32m--> \u001b[39m\u001b[32m536\u001b[39m     \u001b[38;5;28;43mself\u001b[39;49m\u001b[43m.\u001b[49m\u001b[43m_raise_timeout\u001b[49m\u001b[43m(\u001b[49m\u001b[43merr\u001b[49m\u001b[43m=\u001b[49m\u001b[43me\u001b[49m\u001b[43m,\u001b[49m\u001b[43m \u001b[49m\u001b[43murl\u001b[49m\u001b[43m=\u001b[49m\u001b[43murl\u001b[49m\u001b[43m,\u001b[49m\u001b[43m \u001b[49m\u001b[43mtimeout_value\u001b[49m\u001b[43m=\u001b[49m\u001b[43mread_timeout\u001b[49m\u001b[43m)\u001b[49m\n\u001b[32m    537\u001b[39m     \u001b[38;5;28;01mraise\u001b[39;00m\n",
      "\u001b[36mFile \u001b[39m\u001b[32m~/Documents/Python/.venv/lib/python3.12/site-packages/urllib3/connectionpool.py:367\u001b[39m, in \u001b[36mHTTPConnectionPool._raise_timeout\u001b[39m\u001b[34m(self, err, url, timeout_value)\u001b[39m\n\u001b[32m    366\u001b[39m \u001b[38;5;28;01mif\u001b[39;00m \u001b[38;5;28misinstance\u001b[39m(err, SocketTimeout):\n\u001b[32m--> \u001b[39m\u001b[32m367\u001b[39m     \u001b[38;5;28;01mraise\u001b[39;00m ReadTimeoutError(\n\u001b[32m    368\u001b[39m         \u001b[38;5;28mself\u001b[39m, url, \u001b[33mf\u001b[39m\u001b[33m\"\u001b[39m\u001b[33mRead timed out. (read timeout=\u001b[39m\u001b[38;5;132;01m{\u001b[39;00mtimeout_value\u001b[38;5;132;01m}\u001b[39;00m\u001b[33m)\u001b[39m\u001b[33m\"\u001b[39m\n\u001b[32m    369\u001b[39m     ) \u001b[38;5;28;01mfrom\u001b[39;00m\u001b[38;5;250m \u001b[39m\u001b[34;01merr\u001b[39;00m\n\u001b[32m    371\u001b[39m \u001b[38;5;66;03m# See the above comment about EAGAIN in Python 3.\u001b[39;00m\n",
      "\u001b[31mReadTimeoutError\u001b[39m: HTTPSConnectionPool(host='mermaid.ink', port=443): Read timed out. (read timeout=10)",
      "\nDuring handling of the above exception, another exception occurred:\n",
      "\u001b[31mReadTimeout\u001b[39m                               Traceback (most recent call last)",
      "\u001b[36mFile \u001b[39m\u001b[32m~/Documents/Python/.venv/lib/python3.12/site-packages/langchain_core/runnables/graph_mermaid.py:430\u001b[39m, in \u001b[36m_render_mermaid_using_api\u001b[39m\u001b[34m(mermaid_syntax, output_file_path, background_color, file_type, max_retries, retry_delay)\u001b[39m\n\u001b[32m    429\u001b[39m \u001b[38;5;28;01mtry\u001b[39;00m:\n\u001b[32m--> \u001b[39m\u001b[32m430\u001b[39m     response = \u001b[43mrequests\u001b[49m\u001b[43m.\u001b[49m\u001b[43mget\u001b[49m\u001b[43m(\u001b[49m\u001b[43mimage_url\u001b[49m\u001b[43m,\u001b[49m\u001b[43m \u001b[49m\u001b[43mtimeout\u001b[49m\u001b[43m=\u001b[49m\u001b[32;43m10\u001b[39;49m\u001b[43m)\u001b[49m\n\u001b[32m    431\u001b[39m     \u001b[38;5;28;01mif\u001b[39;00m response.status_code == requests.codes.ok:\n",
      "\u001b[36mFile \u001b[39m\u001b[32m~/Documents/Python/.venv/lib/python3.12/site-packages/requests/api.py:73\u001b[39m, in \u001b[36mget\u001b[39m\u001b[34m(url, params, **kwargs)\u001b[39m\n\u001b[32m     63\u001b[39m \u001b[38;5;250m\u001b[39m\u001b[33mr\u001b[39m\u001b[33;03m\"\"\"Sends a GET request.\u001b[39;00m\n\u001b[32m     64\u001b[39m \n\u001b[32m     65\u001b[39m \u001b[33;03m:param url: URL for the new :class:`Request` object.\u001b[39;00m\n\u001b[32m   (...)\u001b[39m\u001b[32m     70\u001b[39m \u001b[33;03m:rtype: requests.Response\u001b[39;00m\n\u001b[32m     71\u001b[39m \u001b[33;03m\"\"\"\u001b[39;00m\n\u001b[32m---> \u001b[39m\u001b[32m73\u001b[39m \u001b[38;5;28;01mreturn\u001b[39;00m \u001b[43mrequest\u001b[49m\u001b[43m(\u001b[49m\u001b[33;43m\"\u001b[39;49m\u001b[33;43mget\u001b[39;49m\u001b[33;43m\"\u001b[39;49m\u001b[43m,\u001b[49m\u001b[43m \u001b[49m\u001b[43murl\u001b[49m\u001b[43m,\u001b[49m\u001b[43m \u001b[49m\u001b[43mparams\u001b[49m\u001b[43m=\u001b[49m\u001b[43mparams\u001b[49m\u001b[43m,\u001b[49m\u001b[43m \u001b[49m\u001b[43m*\u001b[49m\u001b[43m*\u001b[49m\u001b[43mkwargs\u001b[49m\u001b[43m)\u001b[49m\n",
      "\u001b[36mFile \u001b[39m\u001b[32m~/Documents/Python/.venv/lib/python3.12/site-packages/requests/api.py:59\u001b[39m, in \u001b[36mrequest\u001b[39m\u001b[34m(method, url, **kwargs)\u001b[39m\n\u001b[32m     58\u001b[39m \u001b[38;5;28;01mwith\u001b[39;00m sessions.Session() \u001b[38;5;28;01mas\u001b[39;00m session:\n\u001b[32m---> \u001b[39m\u001b[32m59\u001b[39m     \u001b[38;5;28;01mreturn\u001b[39;00m \u001b[43msession\u001b[49m\u001b[43m.\u001b[49m\u001b[43mrequest\u001b[49m\u001b[43m(\u001b[49m\u001b[43mmethod\u001b[49m\u001b[43m=\u001b[49m\u001b[43mmethod\u001b[49m\u001b[43m,\u001b[49m\u001b[43m \u001b[49m\u001b[43murl\u001b[49m\u001b[43m=\u001b[49m\u001b[43murl\u001b[49m\u001b[43m,\u001b[49m\u001b[43m \u001b[49m\u001b[43m*\u001b[49m\u001b[43m*\u001b[49m\u001b[43mkwargs\u001b[49m\u001b[43m)\u001b[49m\n",
      "\u001b[36mFile \u001b[39m\u001b[32m~/Documents/Python/.venv/lib/python3.12/site-packages/requests/sessions.py:589\u001b[39m, in \u001b[36mSession.request\u001b[39m\u001b[34m(self, method, url, params, data, headers, cookies, files, auth, timeout, allow_redirects, proxies, hooks, stream, verify, cert, json)\u001b[39m\n\u001b[32m    588\u001b[39m send_kwargs.update(settings)\n\u001b[32m--> \u001b[39m\u001b[32m589\u001b[39m resp = \u001b[38;5;28;43mself\u001b[39;49m\u001b[43m.\u001b[49m\u001b[43msend\u001b[49m\u001b[43m(\u001b[49m\u001b[43mprep\u001b[49m\u001b[43m,\u001b[49m\u001b[43m \u001b[49m\u001b[43m*\u001b[49m\u001b[43m*\u001b[49m\u001b[43msend_kwargs\u001b[49m\u001b[43m)\u001b[49m\n\u001b[32m    591\u001b[39m \u001b[38;5;28;01mreturn\u001b[39;00m resp\n",
      "\u001b[36mFile \u001b[39m\u001b[32m~/Documents/Python/.venv/lib/python3.12/site-packages/requests/sessions.py:703\u001b[39m, in \u001b[36mSession.send\u001b[39m\u001b[34m(self, request, **kwargs)\u001b[39m\n\u001b[32m    702\u001b[39m \u001b[38;5;66;03m# Send the request\u001b[39;00m\n\u001b[32m--> \u001b[39m\u001b[32m703\u001b[39m r = \u001b[43madapter\u001b[49m\u001b[43m.\u001b[49m\u001b[43msend\u001b[49m\u001b[43m(\u001b[49m\u001b[43mrequest\u001b[49m\u001b[43m,\u001b[49m\u001b[43m \u001b[49m\u001b[43m*\u001b[49m\u001b[43m*\u001b[49m\u001b[43mkwargs\u001b[49m\u001b[43m)\u001b[49m\n\u001b[32m    705\u001b[39m \u001b[38;5;66;03m# Total elapsed time of the request (approximately)\u001b[39;00m\n",
      "\u001b[36mFile \u001b[39m\u001b[32m~/Documents/Python/.venv/lib/python3.12/site-packages/requests/adapters.py:713\u001b[39m, in \u001b[36mHTTPAdapter.send\u001b[39m\u001b[34m(self, request, stream, timeout, verify, cert, proxies)\u001b[39m\n\u001b[32m    712\u001b[39m \u001b[38;5;28;01melif\u001b[39;00m \u001b[38;5;28misinstance\u001b[39m(e, ReadTimeoutError):\n\u001b[32m--> \u001b[39m\u001b[32m713\u001b[39m     \u001b[38;5;28;01mraise\u001b[39;00m ReadTimeout(e, request=request)\n\u001b[32m    714\u001b[39m \u001b[38;5;28;01melif\u001b[39;00m \u001b[38;5;28misinstance\u001b[39m(e, _InvalidHeader):\n",
      "\u001b[31mReadTimeout\u001b[39m: HTTPSConnectionPool(host='mermaid.ink', port=443): Read timed out. (read timeout=10)",
      "\nThe above exception was the direct cause of the following exception:\n",
      "\u001b[31mValueError\u001b[39m                                Traceback (most recent call last)",
      "\u001b[36mCell\u001b[39m\u001b[36m \u001b[39m\u001b[32mIn[36]\u001b[39m\u001b[32m, line 23\u001b[39m\n\u001b[32m     19\u001b[39m graph = builder.compile()\n\u001b[32m     21\u001b[39m \u001b[38;5;66;03m# View the graph\u001b[39;00m\n\u001b[32m---> \u001b[39m\u001b[32m23\u001b[39m display(Image(\u001b[43mgraph\u001b[49m\u001b[43m.\u001b[49m\u001b[43mget_graph\u001b[49m\u001b[43m(\u001b[49m\u001b[43m)\u001b[49m\u001b[43m.\u001b[49m\u001b[43mdraw_mermaid_png\u001b[49m\u001b[43m(\u001b[49m\u001b[43m)\u001b[49m))\n",
      "\u001b[36mFile \u001b[39m\u001b[32m~/Documents/Python/.venv/lib/python3.12/site-packages/langchain_core/runnables/graph.py:683\u001b[39m, in \u001b[36mGraph.draw_mermaid_png\u001b[39m\u001b[34m(self, curve_style, node_colors, wrap_label_n_words, output_file_path, draw_method, background_color, padding, max_retries, retry_delay, frontmatter_config)\u001b[39m\n\u001b[32m    675\u001b[39m \u001b[38;5;28;01mfrom\u001b[39;00m\u001b[38;5;250m \u001b[39m\u001b[34;01mlangchain_core\u001b[39;00m\u001b[34;01m.\u001b[39;00m\u001b[34;01mrunnables\u001b[39;00m\u001b[34;01m.\u001b[39;00m\u001b[34;01mgraph_mermaid\u001b[39;00m\u001b[38;5;250m \u001b[39m\u001b[38;5;28;01mimport\u001b[39;00m draw_mermaid_png\n\u001b[32m    677\u001b[39m mermaid_syntax = \u001b[38;5;28mself\u001b[39m.draw_mermaid(\n\u001b[32m    678\u001b[39m     curve_style=curve_style,\n\u001b[32m    679\u001b[39m     node_colors=node_colors,\n\u001b[32m    680\u001b[39m     wrap_label_n_words=wrap_label_n_words,\n\u001b[32m    681\u001b[39m     frontmatter_config=frontmatter_config,\n\u001b[32m    682\u001b[39m )\n\u001b[32m--> \u001b[39m\u001b[32m683\u001b[39m \u001b[38;5;28;01mreturn\u001b[39;00m \u001b[43mdraw_mermaid_png\u001b[49m\u001b[43m(\u001b[49m\n\u001b[32m    684\u001b[39m \u001b[43m    \u001b[49m\u001b[43mmermaid_syntax\u001b[49m\u001b[43m=\u001b[49m\u001b[43mmermaid_syntax\u001b[49m\u001b[43m,\u001b[49m\n\u001b[32m    685\u001b[39m \u001b[43m    \u001b[49m\u001b[43moutput_file_path\u001b[49m\u001b[43m=\u001b[49m\u001b[43moutput_file_path\u001b[49m\u001b[43m,\u001b[49m\n\u001b[32m    686\u001b[39m \u001b[43m    \u001b[49m\u001b[43mdraw_method\u001b[49m\u001b[43m=\u001b[49m\u001b[43mdraw_method\u001b[49m\u001b[43m,\u001b[49m\n\u001b[32m    687\u001b[39m \u001b[43m    \u001b[49m\u001b[43mbackground_color\u001b[49m\u001b[43m=\u001b[49m\u001b[43mbackground_color\u001b[49m\u001b[43m,\u001b[49m\n\u001b[32m    688\u001b[39m \u001b[43m    \u001b[49m\u001b[43mpadding\u001b[49m\u001b[43m=\u001b[49m\u001b[43mpadding\u001b[49m\u001b[43m,\u001b[49m\n\u001b[32m    689\u001b[39m \u001b[43m    \u001b[49m\u001b[43mmax_retries\u001b[49m\u001b[43m=\u001b[49m\u001b[43mmax_retries\u001b[49m\u001b[43m,\u001b[49m\n\u001b[32m    690\u001b[39m \u001b[43m    \u001b[49m\u001b[43mretry_delay\u001b[49m\u001b[43m=\u001b[49m\u001b[43mretry_delay\u001b[49m\u001b[43m,\u001b[49m\n\u001b[32m    691\u001b[39m \u001b[43m\u001b[49m\u001b[43m)\u001b[49m\n",
      "\u001b[36mFile \u001b[39m\u001b[32m~/Documents/Python/.venv/lib/python3.12/site-packages/langchain_core/runnables/graph_mermaid.py:293\u001b[39m, in \u001b[36mdraw_mermaid_png\u001b[39m\u001b[34m(mermaid_syntax, output_file_path, draw_method, background_color, padding, max_retries, retry_delay)\u001b[39m\n\u001b[32m    287\u001b[39m     img_bytes = asyncio.run(\n\u001b[32m    288\u001b[39m         _render_mermaid_using_pyppeteer(\n\u001b[32m    289\u001b[39m             mermaid_syntax, output_file_path, background_color, padding\n\u001b[32m    290\u001b[39m         )\n\u001b[32m    291\u001b[39m     )\n\u001b[32m    292\u001b[39m \u001b[38;5;28;01melif\u001b[39;00m draw_method == MermaidDrawMethod.API:\n\u001b[32m--> \u001b[39m\u001b[32m293\u001b[39m     img_bytes = \u001b[43m_render_mermaid_using_api\u001b[49m\u001b[43m(\u001b[49m\n\u001b[32m    294\u001b[39m \u001b[43m        \u001b[49m\u001b[43mmermaid_syntax\u001b[49m\u001b[43m,\u001b[49m\n\u001b[32m    295\u001b[39m \u001b[43m        \u001b[49m\u001b[43moutput_file_path\u001b[49m\u001b[43m=\u001b[49m\u001b[43moutput_file_path\u001b[49m\u001b[43m,\u001b[49m\n\u001b[32m    296\u001b[39m \u001b[43m        \u001b[49m\u001b[43mbackground_color\u001b[49m\u001b[43m=\u001b[49m\u001b[43mbackground_color\u001b[49m\u001b[43m,\u001b[49m\n\u001b[32m    297\u001b[39m \u001b[43m        \u001b[49m\u001b[43mmax_retries\u001b[49m\u001b[43m=\u001b[49m\u001b[43mmax_retries\u001b[49m\u001b[43m,\u001b[49m\n\u001b[32m    298\u001b[39m \u001b[43m        \u001b[49m\u001b[43mretry_delay\u001b[49m\u001b[43m=\u001b[49m\u001b[43mretry_delay\u001b[49m\u001b[43m,\u001b[49m\n\u001b[32m    299\u001b[39m \u001b[43m    \u001b[49m\u001b[43m)\u001b[49m\n\u001b[32m    300\u001b[39m \u001b[38;5;28;01melse\u001b[39;00m:\n\u001b[32m    301\u001b[39m     supported_methods = \u001b[33m\"\u001b[39m\u001b[33m, \u001b[39m\u001b[33m\"\u001b[39m.join([m.value \u001b[38;5;28;01mfor\u001b[39;00m m \u001b[38;5;129;01min\u001b[39;00m MermaidDrawMethod])\n",
      "\u001b[36mFile \u001b[39m\u001b[32m~/Documents/Python/.venv/lib/python3.12/site-packages/langchain_core/runnables/graph_mermaid.py:462\u001b[39m, in \u001b[36m_render_mermaid_using_api\u001b[39m\u001b[34m(mermaid_syntax, output_file_path, background_color, file_type, max_retries, retry_delay)\u001b[39m\n\u001b[32m    457\u001b[39m         \u001b[38;5;28;01melse\u001b[39;00m:\n\u001b[32m    458\u001b[39m             msg = (\n\u001b[32m    459\u001b[39m                 \u001b[33m\"\u001b[39m\u001b[33mFailed to reach https://mermaid.ink/ API while trying to render \u001b[39m\u001b[33m\"\u001b[39m\n\u001b[32m    460\u001b[39m                 \u001b[33mf\u001b[39m\u001b[33m\"\u001b[39m\u001b[33myour graph after \u001b[39m\u001b[38;5;132;01m{\u001b[39;00mmax_retries\u001b[38;5;132;01m}\u001b[39;00m\u001b[33m retries. \u001b[39m\u001b[33m\"\u001b[39m\n\u001b[32m    461\u001b[39m             ) + error_msg_suffix\n\u001b[32m--> \u001b[39m\u001b[32m462\u001b[39m             \u001b[38;5;28;01mraise\u001b[39;00m \u001b[38;5;167;01mValueError\u001b[39;00m(msg) \u001b[38;5;28;01mfrom\u001b[39;00m\u001b[38;5;250m \u001b[39m\u001b[34;01me\u001b[39;00m\n\u001b[32m    464\u001b[39m \u001b[38;5;66;03m# This should not be reached, but just in case\u001b[39;00m\n\u001b[32m    465\u001b[39m msg = (\n\u001b[32m    466\u001b[39m     \u001b[33m\"\u001b[39m\u001b[33mFailed to reach https://mermaid.ink/ API while trying to render \u001b[39m\u001b[33m\"\u001b[39m\n\u001b[32m    467\u001b[39m     \u001b[33mf\u001b[39m\u001b[33m\"\u001b[39m\u001b[33myour graph after \u001b[39m\u001b[38;5;132;01m{\u001b[39;00mmax_retries\u001b[38;5;132;01m}\u001b[39;00m\u001b[33m retries. \u001b[39m\u001b[33m\"\u001b[39m\n\u001b[32m    468\u001b[39m ) + error_msg_suffix\n",
      "\u001b[31mValueError\u001b[39m: Failed to reach https://mermaid.ink/ API while trying to render your graph after 1 retries. To resolve this issue:\n1. Check your internet connection and try again\n2. Try with higher retry settings: `draw_mermaid_png(..., max_retries=5, retry_delay=2.0)`\n3. Use the Pyppeteer rendering method which will render your graph locally in a browser: `draw_mermaid_png(..., draw_method=MermaidDrawMethod.PYPPETEER)`"
     ]
    }
   ],
   "source": [
    "def tools_calling_llm(state:State):\n",
    "    return{\"messages\": [llm_with_tools.invoke(state['messages'])]}\n",
    "\n",
    "# BUild graph\n",
    "builder = StateGraph(State)\n",
    "builder.add_node(\"tools_calling_llm\", tools_calling_llm)\n",
    "builder.add_node(\"tools\", ToolNode(tools))\n",
    "\n",
    "# adding Edges\n",
    "builder.add_edge(START, \"tools_calling_llm\")   \n",
    "builder.add_conditional_edges(\n",
    "    \"tools_calling_llm\",\n",
    "    ## If the latest message result from assistant is a tool call-> Tool condition routes to tools\n",
    "    ## If the latest message result from assistant is not a tool call->tools_condition routes to LLM\n",
    "    tools_condition,\n",
    ")\n",
    "builder.add_edge(\"tools\", END)\n",
    "\n",
    "graph = builder.compile()\n",
    "\n",
    "# View the graph\n",
    "\n",
    "display(Image(graph.get_graph().draw_mermaid_png()))\n",
    "\n",
    "\n",
    "\n"
   ]
  },
  {
   "cell_type": "code",
   "execution_count": 34,
   "id": "c8ebd072",
   "metadata": {},
   "outputs": [
    {
     "name": "stdout",
     "output_type": "stream",
     "text": [
      "================================\u001b[1m Human Message \u001b[0m=================================\n",
      "\n",
      "1706.03762\n",
      "==================================\u001b[1m Ai Message \u001b[0m==================================\n",
      "Tool Calls:\n",
      "  arxiv (call_6c95)\n",
      " Call ID: call_6c95\n",
      "  Args:\n",
      "    query: 1706.03762\n",
      "=================================\u001b[1m Tool Message \u001b[0m=================================\n",
      "Name: arxiv\n",
      "\n",
      "Published: 2023-08-02\n",
      "Title: Attention Is All You Need\n",
      "Authors: Ashish Vaswani, Noam Shazeer, Niki Parmar, Jakob Uszkoreit, Llion Jones, Aidan N. Gomez, Lukasz Kaiser, Illia Polosukhin\n",
      "Summary: The dominant sequence transduction models are based on complex recurrent or\n",
      "convolutional neural networks in an encoder-decoder configuration. The best\n",
      "performing models also connect the encoder and decoder through an attention\n",
      "mechanism. We propose a new simple network architecture, the Transformer, base\n"
     ]
    }
   ],
   "source": [
    "messages= graph.invoke({\"messages\":\"1706.03762\"})\n",
    "for m in messages['messages']:\n",
    "    m.pretty_print()"
   ]
  },
  {
   "cell_type": "code",
   "execution_count": 35,
   "id": "2f2dfc24",
   "metadata": {},
   "outputs": [
    {
     "name": "stdout",
     "output_type": "stream",
     "text": [
      "================================\u001b[1m Human Message \u001b[0m=================================\n",
      "\n",
      "Hello I am Akkshay\n",
      "==================================\u001b[1m Ai Message \u001b[0m==================================\n",
      "\n",
      "Hello Akkshay! Welcome! How can I assist you today? 😊\n"
     ]
    }
   ],
   "source": [
    "messages= graph.invoke({\"messages\":\"Hello I am Akkshay\"})\n",
    "for m in messages['messages']:\n",
    "    m.pretty_print()"
   ]
  },
  {
   "cell_type": "code",
   "execution_count": 37,
   "id": "91c681f4",
   "metadata": {},
   "outputs": [
    {
     "data": {
      "image/png": "[encoded data removed]",
      "text/plain": [
       "<IPython.core.display.Image object>"
      ]
     },
     "metadata": {},
     "output_type": "display_data"
    }
   ],
   "source": [
    "def tools_calling_llm(state:State):\n",
    "    return{\"messages\": [llm_with_tools.invoke(state['messages'])]}\n",
    "\n",
    "# BUild graph\n",
    "builder = StateGraph(State)\n",
    "builder.add_node(\"tools_calling_llm\", tools_calling_llm)\n",
    "builder.add_node(\"tools\", ToolNode(tools))\n",
    "\n",
    "# adding Edges\n",
    "builder.add_edge(START, \"tools_calling_llm\")   \n",
    "builder.add_conditional_edges(\n",
    "    \"tools_calling_llm\",\n",
    "    ## If the latest message result from assistant is a tool call-> Tool condition routes to tools\n",
    "    ## If the latest message result from assistant is not a tool call->tools_condition routes to LLM\n",
    "    tools_condition,\n",
    ")\n",
    "builder.add_edge(\"tools\", \"tools_calling_llm\")\n",
    "\n",
    "graph = builder.compile()\n",
    "\n",
    "# View the graph\n",
    "\n",
    "display(Image(graph.get_graph().draw_mermaid_png()))"
   ]
  },
  {
   "cell_type": "code",
   "execution_count": 38,
   "id": "eb54209d",
   "metadata": {},
   "outputs": [
    {
     "name": "stdout",
     "output_type": "stream",
     "text": [
      "================================\u001b[1m Human Message \u001b[0m=================================\n",
      "\n",
      "Hello I am Akkshay, Give me the latest AI news, and also latest ai research paper\n",
      "==================================\u001b[1m Ai Message \u001b[0m==================================\n",
      "Tool Calls:\n",
      "  tavily_search_results_json (call_9vwq)\n",
      " Call ID: call_9vwq\n",
      "  Args:\n",
      "    query: latest AI news\n",
      "  arxiv (call_bzrm)\n",
      " Call ID: call_bzrm\n",
      "  Args:\n",
      "    query: latest AI research papers\n",
      "=================================\u001b[1m Tool Message \u001b[0m=================================\n",
      "Name: tavily_search_results_json\n",
      "\n",
      "[{\"title\": \"AI News | Latest AI News, Analysis & Events\", \"url\": \"https://www.artificialintelligence-news.com/\", \"content\": \"Artificial Intelligence, Companies, Deep & Reinforcement Learning, Development\\nMarch 6, 2025\\nDeepSeek-R1 reasoning models rival OpenAI in performance\\nArtificial Intelligence, Companies, Deep & Reinforcement Learning, Development\\nJanuary 20, 2025\\nNew AI training techniques aim to overcome current challenges\\nDeep & Reinforcement Learning, Machine Learning, NVIDIA, Research\\nNovember 28, 2024 [...] Marketing Tech News\\nApril 16, 2025\\nOpenAI explores social platform following $40B funding round\\n\\nAI News\\nApril 15, 2025\\nMeta will train AI models using EU user data\\n\\nDeveloper Tech News\\nApril 15, 2025\\nMasquerading payment npm package installs backdoor\\n\\nTelecoms Tech News\\nApril 15, 2025\\nFCC chair calls EU satellite strategy ‘anti-American’\\nSubscribe\\nAll our premium content and latest tech news delivered straight to your inbox\\nSubscribe\\n\\n\\n\\n\\n\\n\\n\\nExplore [...] Applications, Artificial Intelligence, Companies, DeepMind, Google, Industries\\nApril 14, 2025\\nIEA: The opportunities and challenges of AI for global energy\\nApplications, Artificial Intelligence, Energy, Ethics & Society, Industries, Research\\nApril 10, 2025\\nSpot AI introduces the world’s first universal AI agent builder for security cameras\\nApplications, Artificial Intelligence, Healthcare, Security\\nApril 10, 2025\\nDeep Learning\\nAlibaba Qwen QwQ-32B: Scaled reinforcement learning showcase\", \"score\": 0.81524754}, {\"title\": \"Artificial intelligence - NBC News\", \"url\": \"https://www.nbcnews.com/artificial-intelligence\", \"content\": \"ARTIFICIAL INTELLIGENCE\\nThe latest news and top stories on artificial intelligence, including ChatGPT, AI Chatbot and Bard.\\n Getty Images\\nARTIFICIAL INTELLIGENCE\\n'Billionaires versus billionaires': OpenAI feud between Elon Musk, Sam Altman faces federal judge\\n SeongJoon Cho / Bloomberg via Getty Images file\\nARTIFICIAL INTELLIGENCE\\nOpenAI partners with U.S. National Laboratories on scientific research, nuclear weapons security\\nAI NEWS [...] TOP VIDEO\\n 03:36 -----\\nAI startup DeepSeek causes buzz in China but draws global scrutiny over censorship and security\\nNBC News NOW\\n 02:03 -----\\nA.I. leaders say China may have copied U.S. technology\\nNightly News\\n 08:23 -----\\nNew Chinese A.I. tool 'DeepSeek' competes with American models\\nNBC News NOW\\n 01:09 -----\\nChinese A.I. app shakes up Silicon Valley, causing Wall Street selloff\\nNightly News\\n 02:43 -----\\nFast food goes high tech with new A.I. drive-thrus\\nNightly News\\n 03:50 -----\", \"score\": 0.80442166}, {\"title\": \"AI News & Artificial Intelligence - TechCrunch\", \"url\": \"https://techcrunch.com/category/artificial-intelligence/\", \"content\": \"Headlines Only\\nLoad More\\n\\n\\n\\nAI\\nxAI adds a ‘memory’ feature to Grok\\n\\nKyle Wiggers\\n\\n4 hours ago\\n\\n\\n\\nIn Brief\\n\\nTrump administration reportedly considers a US DeepSeek ban\\n\\nMaxwell Zeff\\n\\n7 hours ago\\n\\n\\n\\nAI\\nOpenAI’s latest AI models have a new safeguard to prevent biorisks\\n\\nMaxwell Zeff\\n\\n9 hours ago\\n\\n\\n\\nAI\\nOpenAI is reportedly in talks to buy Windsurf for $3B, with news expected later this week\\n\\nMarina Temkin\\n\\n10 hours ago [...] 1 day ago\\n\\n\\n\\nAI\\nOpenAI hires team behind GV-backed AI eval platform Context.ai\\n\\nIvan Mehta\\n\\n1 day ago\\n\\n\\n\\nAI\\nAnthropic forms a new team to grow its AWS business\\n\\nKyle Wiggers\\n\\n2 days ago\\n\\n\\n\\nAI\\nAnthropic’s Claude can now read your Gmail\\n\\nMaxwell Zeff\\n\\n2 days ago\\n\\n\\n\\nAI\\nGoogle’s Veo 2 video generating model comes to Gemini\\n\\nKyle Wiggers\\n\\n2 days ago\\n\\n\\n\\nAI\\nWitness a dynamic dialogue between two visionary CEOs\\n\\nCindy Zackney\\n\\n2 days ago\\n\\n\\n\\nIn Brief [...] Sign In \\nSearch\\nSubmit\\nSite Search Toggle\\nMega Menu Toggle\\nTopics\\nLatest\\nAI\\nAmazon\\nApps\\nBiotech & Health\\nClimate\\nCloud Computing\\nCommerce\\nCrypto\\nEnterprise\\nEVs\\nFintech\\nFundraising\\nGadgets\\nGaming\\nGoogle\\nGovernment & Policy\\nHardware\\nInstagram\\nLayoffs\\nMedia & Entertainment\\nMeta\\nMicrosoft\\nPrivacy\\nRobotics\\nSecurity\\nSocial\\nSpace\\nStartups\\nTikTok\\nTransportation\\nVenture\\nMore from TechCrunch\\nEvents\\nStartup Battlefield\\nStrictlyVC\\nNewsletters\\nPodcasts\\nVideos\\nPartner Content\\nTechCrunch Brand Studio\", \"score\": 0.7467494}, {\"title\": \"Latest AI news and blog posts - Google AI\", \"url\": \"https://ai.google/latest-news/\", \"content\": \"Quantum AI\\nBuilding best-in-class quantum computing.\\nLearn more\\nHealth Science Sustainability Quantum AI\\nLatest news\\nExplore the Gemini ecosystem\\nRead about the latest in AI\\nAI on The Keyword\\n 6 highlights from Google Cloud Next 25 Read article\\n Gemini 2.5: Our most intelligent AI model Read article\\n 6 health AI updates we shared at The Check Up Read article\\n DolphinGemma: How Google AI is helping decode dolphin communication Read article [...] Google AI - Latest AI news and blog posts\\n\\n\\nAdvancing AI\\nAdvancing AI\\nMaking AI helpful for everyone\\n\\nWhy AI\\nBoldly pursued, AI transforms lives globally when built and used responsibly.\\nLearn more\\n\\nMilestones\\nFor over 20 years, Google has worked to make AI helpful for everyone.\\nLearn more\\n\\nAI research\\nTackling the most challenging problems in computer science.\\nLearn more\", \"score\": 0.6889923}, {\"title\": \"Artificial Intelligence - Latest AI News and Analysis - WSJ.com\", \"url\": \"https://www.wsj.com/tech/ai\", \"content\": \"McDonald’s Gives Its Restaurants an AI Makeover\\nThe fast-food giant’s new initiative uses artificial intelligence to target order accuracy and help restaurants detect equipment issues before they fail.\\nBy\\nIsabelle Bousquetteand\\nBelle Lin\\n4 min read\\n\\nBeijing Ramps Up Efforts For Tech Independence\\nIn a speech to the country’s lawmakers, Chinese Premier Li Qiang said AI would be key to boosting China’s digital economy.\\nBy\\nRaffaele Huang\\n1 min read [...] Artificial Intelligence - Latest AI News and Analysis - WSJ.com\\nSkip to Main Content\\nExplore Our Brands\\n\\nWSJ\\n\\n\\n\\n\\nBarron's\\n\\n\\n\\n\\n\\nMarketWatch\\n\\n\\n\\n\\n\\nIBD\\n\\n\\n\\n\\n\\n\\n\\n\\n\\n\\n\\nBuy Side from WSJ\\n\\n\\nThe Wall Street Journal\\n\\n\\nEnglish Edition\\nEdition\\n\\n\\nPrint Edition\\n\\nVideo\\nAudio\\nLatest Headlines\\n\\nMore\\nMore\\n\\n\\nLatest\\n\\n\\nWorld\\nTopics\\nAfrica\\nAmericas\\nAsia\\nChina\\nEurope\\nMiddle East\\nIndia\\nOceania\\nRussia\\nU.K.\\nMore\\nScience\\nAnthropology\\nBiology\\nEnvironment\\nPhysics\\nSpace & Astronomy\\nWorld Video\\nObituaries\", \"score\": 0.685971}]\n",
      "=================================\u001b[1m Tool Message \u001b[0m=================================\n",
      "Name: arxiv\n",
      "\n",
      "Published: 2021-04-27\n",
      "Title: Enabling AI in Future Wireless Networks: A Data Life Cycle Perspective\n",
      "Authors: Dinh C. Nguyen, Peng Cheng, Ming Ding, David Lopez-Perez, Pubudu N. Pathirana, Jun Li, Aruna Seneviratne, Yonghui Li, H. Vincent Poor\n",
      "Summary: Recent years have seen rapid deployment of mobile computing and Internet of\n",
      "Things (IoT) networks, which can be mostly attributed to the increasing\n",
      "communication and sensing capabilities of wireless systems. Big data analysis,\n",
      "pervasive computing, \n",
      "==================================\u001b[1m Ai Message \u001b[0m==================================\n",
      "\n",
      "Here's the latest AI news and research papers based on your request:\n",
      "\n",
      "---\n",
      "\n",
      "### **Latest AI News (as of April 2025*)**  \n",
      "*(Note: Some dates appear future-dated; assuming this is a fictional scenario.)*  \n",
      "1. **DeepSeek Rises**:  \n",
      "   - Chinese startup DeepSeek's AI models (e.g., DeepSeek-R1) are rivaling OpenAI’s performance but face scrutiny over censorship concerns (NBC News).  \n",
      "   - OpenAI is reportedly in talks to acquire Windsurf for $3B to enhance its AI tools (TechCrunch).  \n",
      "\n",
      "2. **Regulatory & Corporate Moves**:  \n",
      "   - Meta plans to train AI models using EU user data, sparking privacy debates (April 15, 2025).  \n",
      "   - OpenAI introduced safeguards in its latest models to prevent biorisk misuse (TechCrunch).  \n",
      "\n",
      "3. **Tech & Innovation**:  \n",
      "   - NVIDIA’s collaboration on AI training techniques aims to tackle current AI limitations (April 2025.  \n",
      "   - Google’s Gemini 2.5 is highlighted as its most advanced AI model (Google AI Blog).  \n",
      "\n",
      "---\n",
      "\n",
      "### **Latest AI Research Paper**  \n",
      "**Title**: *\"Enabling AI in Future Wireless Networks: A Data Life Cycle Perspective\"*  \n",
      "**Authors**: Dinh C. Nguyen, Peng Cheng, Ming Ding, et al.  \n",
      "**Date**: April 27, 2021 (Note: This appears older than expected—future searches may need refined queries for 2023/2024 papers).)  \n",
      "**Summary**:  \n",
      "Explores integrating AI into wireless networks to improve communication, IoT, and big data analysis. Focuses on optimizing data lifecycle stages (collection, processing, transmission) using AI techniques.  \n",
      "\n",
      "---\n",
      "\n",
      "### Notes:  \n",
      "- The research paper returned is from 2021. For newer papers (2023–2024), try refining the ArXiv search terms (e.g., \"2023 AI breakthroughs\").  \n",
      "- The news articles suggest ongoing developments in AI ethics, corporate strategies, and technological advancements.  \n",
      "\n",
      "Let me know if you’d like deeper insights into any specific topic!\n"
     ]
    }
   ],
   "source": [
    "messages= graph.invoke({\"messages\":\"Hello I am Akkshay, Give me the latest AI news, and also latest ai research paper\"})\n",
    "for m in messages['messages']:\n",
    "    m.pretty_print()"
   ]
  },
  {
   "cell_type": "code",
   "execution_count": null,
   "id": "11aa57fa",
   "metadata": {},
   "outputs": [],
   "source": []
  }
 ],
 "metadata": {
  "kernelspec": {
   "display_name": ".venv",
   "language": "python",
   "name": "python3"
  },
  "language_info": {
   "codemirror_mode": {
    "name": "ipython",
    "version": 3
   },
   "file_extension": ".py",
   "mimetype": "text/x-python",
   "name": "python",
   "nbconvert_exporter": "python",
   "pygments_lexer": "ipython3",
   "version": "3.12.10"
  }
 },
 "nbformat": 4,
 "nbformat_minor": 5
}
